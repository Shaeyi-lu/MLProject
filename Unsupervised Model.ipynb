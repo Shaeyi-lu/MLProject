{
 "cells": [
  {
   "cell_type": "code",
   "execution_count": 1,
   "metadata": {},
   "outputs": [
    {
     "name": "stdout",
     "output_type": "stream",
     "text": [
      "Requirement already satisfied: spotipy in c:\\users\\miche\\anaconda3\\lib\\site-packages (2.22.1)\n",
      "Requirement already satisfied: requests>=2.25.0 in c:\\users\\miche\\anaconda3\\lib\\site-packages (from spotipy) (2.28.2)\n",
      "Requirement already satisfied: urllib3>=1.26.0 in c:\\users\\miche\\anaconda3\\lib\\site-packages (from spotipy) (1.26.15)\n",
      "Requirement already satisfied: redis>=3.5.3 in c:\\users\\miche\\anaconda3\\lib\\site-packages (from spotipy) (4.5.4)\n",
      "Requirement already satisfied: six>=1.15.0 in c:\\users\\miche\\anaconda3\\lib\\site-packages (from spotipy) (1.15.0)\n",
      "Requirement already satisfied: certifi>=2017.4.17 in c:\\users\\miche\\anaconda3\\lib\\site-packages (from requests>=2.25.0->spotipy) (2022.12.7)\n",
      "Requirement already satisfied: idna<4,>=2.5 in c:\\users\\miche\\anaconda3\\lib\\site-packages (from requests>=2.25.0->spotipy) (2.10)\n",
      "Requirement already satisfied: charset-normalizer<4,>=2 in c:\\users\\miche\\anaconda3\\lib\\site-packages (from requests>=2.25.0->spotipy) (3.0.1)\n",
      "Requirement already satisfied: async-timeout>=4.0.2; python_version <= \"3.11.2\" in c:\\users\\miche\\anaconda3\\lib\\site-packages (from redis>=3.5.3->spotipy) (4.0.2)\n",
      "Note: you may need to restart the kernel to use updated packages.\n"
     ]
    }
   ],
   "source": [
    "pip install spotipy"
   ]
  },
  {
   "cell_type": "code",
   "execution_count": 2,
   "metadata": {},
   "outputs": [],
   "source": [
    "import spotipy\n",
    "from spotipy.oauth2 import SpotifyClientCredentials\n",
    "from spotipy.oauth2 import SpotifyOAuth\n",
    "import numpy as np \n",
    "import pandas as pd\n",
    "import seaborn as sns\n",
    "import matplotlib.pyplot as plt\n",
    "import plotly.express as px\n",
    "import os"
   ]
  },
  {
   "cell_type": "markdown",
   "metadata": {},
   "source": [
    "# Import Data "
   ]
  },
  {
   "cell_type": "code",
   "execution_count": 35,
   "metadata": {
    "scrolled": true
   },
   "outputs": [
    {
     "name": "stdout",
     "output_type": "stream",
     "text": [
      "Index(['id', 'name', 'album', 'album_id', 'artists', 'artist_ids',\n",
      "       'track_number', 'disc_number', 'explicit', 'danceability', 'energy',\n",
      "       'key', 'loudness', 'mode', 'speechiness', 'acousticness',\n",
      "       'instrumentalness', 'liveness', 'valence', 'tempo', 'duration_ms',\n",
      "       'time_signature', 'year', 'release_date'],\n",
      "      dtype='object')\n"
     ]
    },
    {
     "data": {
      "text/html": [
       "<div>\n",
       "<style scoped>\n",
       "    .dataframe tbody tr th:only-of-type {\n",
       "        vertical-align: middle;\n",
       "    }\n",
       "\n",
       "    .dataframe tbody tr th {\n",
       "        vertical-align: top;\n",
       "    }\n",
       "\n",
       "    .dataframe thead th {\n",
       "        text-align: right;\n",
       "    }\n",
       "</style>\n",
       "<table border=\"1\" class=\"dataframe\">\n",
       "  <thead>\n",
       "    <tr style=\"text-align: right;\">\n",
       "      <th></th>\n",
       "      <th>id</th>\n",
       "      <th>name</th>\n",
       "      <th>album</th>\n",
       "      <th>album_id</th>\n",
       "      <th>artists</th>\n",
       "      <th>artist_ids</th>\n",
       "      <th>track_number</th>\n",
       "      <th>disc_number</th>\n",
       "      <th>explicit</th>\n",
       "      <th>danceability</th>\n",
       "      <th>...</th>\n",
       "      <th>speechiness</th>\n",
       "      <th>acousticness</th>\n",
       "      <th>instrumentalness</th>\n",
       "      <th>liveness</th>\n",
       "      <th>valence</th>\n",
       "      <th>tempo</th>\n",
       "      <th>duration_ms</th>\n",
       "      <th>time_signature</th>\n",
       "      <th>year</th>\n",
       "      <th>release_date</th>\n",
       "    </tr>\n",
       "  </thead>\n",
       "  <tbody>\n",
       "    <tr>\n",
       "      <th>0</th>\n",
       "      <td>7lmeHLHBe4nmXzuXc0HDjk</td>\n",
       "      <td>Testify</td>\n",
       "      <td>The Battle Of Los Angeles</td>\n",
       "      <td>2eia0myWFgoHuttJytCxgX</td>\n",
       "      <td>['Rage Against The Machine']</td>\n",
       "      <td>['2d0hyoQ5ynDBnkvAbJKORj']</td>\n",
       "      <td>1</td>\n",
       "      <td>1</td>\n",
       "      <td>False</td>\n",
       "      <td>0.470</td>\n",
       "      <td>...</td>\n",
       "      <td>0.0727</td>\n",
       "      <td>0.02610</td>\n",
       "      <td>0.000011</td>\n",
       "      <td>0.3560</td>\n",
       "      <td>0.503</td>\n",
       "      <td>117.906</td>\n",
       "      <td>210133</td>\n",
       "      <td>4.0</td>\n",
       "      <td>1999</td>\n",
       "      <td>1999-11-02</td>\n",
       "    </tr>\n",
       "    <tr>\n",
       "      <th>1</th>\n",
       "      <td>1wsRitfRRtWyEapl0q22o8</td>\n",
       "      <td>Guerrilla Radio</td>\n",
       "      <td>The Battle Of Los Angeles</td>\n",
       "      <td>2eia0myWFgoHuttJytCxgX</td>\n",
       "      <td>['Rage Against The Machine']</td>\n",
       "      <td>['2d0hyoQ5ynDBnkvAbJKORj']</td>\n",
       "      <td>2</td>\n",
       "      <td>1</td>\n",
       "      <td>True</td>\n",
       "      <td>0.599</td>\n",
       "      <td>...</td>\n",
       "      <td>0.1880</td>\n",
       "      <td>0.01290</td>\n",
       "      <td>0.000071</td>\n",
       "      <td>0.1550</td>\n",
       "      <td>0.489</td>\n",
       "      <td>103.680</td>\n",
       "      <td>206200</td>\n",
       "      <td>4.0</td>\n",
       "      <td>1999</td>\n",
       "      <td>1999-11-02</td>\n",
       "    </tr>\n",
       "    <tr>\n",
       "      <th>2</th>\n",
       "      <td>1hR0fIFK2qRG3f3RF70pb7</td>\n",
       "      <td>Calm Like a Bomb</td>\n",
       "      <td>The Battle Of Los Angeles</td>\n",
       "      <td>2eia0myWFgoHuttJytCxgX</td>\n",
       "      <td>['Rage Against The Machine']</td>\n",
       "      <td>['2d0hyoQ5ynDBnkvAbJKORj']</td>\n",
       "      <td>3</td>\n",
       "      <td>1</td>\n",
       "      <td>False</td>\n",
       "      <td>0.315</td>\n",
       "      <td>...</td>\n",
       "      <td>0.4830</td>\n",
       "      <td>0.02340</td>\n",
       "      <td>0.000002</td>\n",
       "      <td>0.1220</td>\n",
       "      <td>0.370</td>\n",
       "      <td>149.749</td>\n",
       "      <td>298893</td>\n",
       "      <td>4.0</td>\n",
       "      <td>1999</td>\n",
       "      <td>1999-11-02</td>\n",
       "    </tr>\n",
       "    <tr>\n",
       "      <th>3</th>\n",
       "      <td>2lbASgTSoDO7MTuLAXlTW0</td>\n",
       "      <td>Mic Check</td>\n",
       "      <td>The Battle Of Los Angeles</td>\n",
       "      <td>2eia0myWFgoHuttJytCxgX</td>\n",
       "      <td>['Rage Against The Machine']</td>\n",
       "      <td>['2d0hyoQ5ynDBnkvAbJKORj']</td>\n",
       "      <td>4</td>\n",
       "      <td>1</td>\n",
       "      <td>True</td>\n",
       "      <td>0.440</td>\n",
       "      <td>...</td>\n",
       "      <td>0.2370</td>\n",
       "      <td>0.16300</td>\n",
       "      <td>0.000004</td>\n",
       "      <td>0.1210</td>\n",
       "      <td>0.574</td>\n",
       "      <td>96.752</td>\n",
       "      <td>213640</td>\n",
       "      <td>4.0</td>\n",
       "      <td>1999</td>\n",
       "      <td>1999-11-02</td>\n",
       "    </tr>\n",
       "    <tr>\n",
       "      <th>4</th>\n",
       "      <td>1MQTmpYOZ6fcMQc56Hdo7T</td>\n",
       "      <td>Sleep Now In the Fire</td>\n",
       "      <td>The Battle Of Los Angeles</td>\n",
       "      <td>2eia0myWFgoHuttJytCxgX</td>\n",
       "      <td>['Rage Against The Machine']</td>\n",
       "      <td>['2d0hyoQ5ynDBnkvAbJKORj']</td>\n",
       "      <td>5</td>\n",
       "      <td>1</td>\n",
       "      <td>False</td>\n",
       "      <td>0.426</td>\n",
       "      <td>...</td>\n",
       "      <td>0.0701</td>\n",
       "      <td>0.00162</td>\n",
       "      <td>0.105000</td>\n",
       "      <td>0.0789</td>\n",
       "      <td>0.539</td>\n",
       "      <td>127.059</td>\n",
       "      <td>205600</td>\n",
       "      <td>4.0</td>\n",
       "      <td>1999</td>\n",
       "      <td>1999-11-02</td>\n",
       "    </tr>\n",
       "  </tbody>\n",
       "</table>\n",
       "<p>5 rows × 24 columns</p>\n",
       "</div>"
      ],
      "text/plain": [
       "                       id                   name                      album  \\\n",
       "0  7lmeHLHBe4nmXzuXc0HDjk                Testify  The Battle Of Los Angeles   \n",
       "1  1wsRitfRRtWyEapl0q22o8        Guerrilla Radio  The Battle Of Los Angeles   \n",
       "2  1hR0fIFK2qRG3f3RF70pb7       Calm Like a Bomb  The Battle Of Los Angeles   \n",
       "3  2lbASgTSoDO7MTuLAXlTW0              Mic Check  The Battle Of Los Angeles   \n",
       "4  1MQTmpYOZ6fcMQc56Hdo7T  Sleep Now In the Fire  The Battle Of Los Angeles   \n",
       "\n",
       "                 album_id                       artists  \\\n",
       "0  2eia0myWFgoHuttJytCxgX  ['Rage Against The Machine']   \n",
       "1  2eia0myWFgoHuttJytCxgX  ['Rage Against The Machine']   \n",
       "2  2eia0myWFgoHuttJytCxgX  ['Rage Against The Machine']   \n",
       "3  2eia0myWFgoHuttJytCxgX  ['Rage Against The Machine']   \n",
       "4  2eia0myWFgoHuttJytCxgX  ['Rage Against The Machine']   \n",
       "\n",
       "                   artist_ids  track_number  disc_number  explicit  \\\n",
       "0  ['2d0hyoQ5ynDBnkvAbJKORj']             1            1     False   \n",
       "1  ['2d0hyoQ5ynDBnkvAbJKORj']             2            1      True   \n",
       "2  ['2d0hyoQ5ynDBnkvAbJKORj']             3            1     False   \n",
       "3  ['2d0hyoQ5ynDBnkvAbJKORj']             4            1      True   \n",
       "4  ['2d0hyoQ5ynDBnkvAbJKORj']             5            1     False   \n",
       "\n",
       "   danceability  ...  speechiness  acousticness  instrumentalness  liveness  \\\n",
       "0         0.470  ...       0.0727       0.02610          0.000011    0.3560   \n",
       "1         0.599  ...       0.1880       0.01290          0.000071    0.1550   \n",
       "2         0.315  ...       0.4830       0.02340          0.000002    0.1220   \n",
       "3         0.440  ...       0.2370       0.16300          0.000004    0.1210   \n",
       "4         0.426  ...       0.0701       0.00162          0.105000    0.0789   \n",
       "\n",
       "   valence    tempo  duration_ms  time_signature  year  release_date  \n",
       "0    0.503  117.906       210133             4.0  1999    1999-11-02  \n",
       "1    0.489  103.680       206200             4.0  1999    1999-11-02  \n",
       "2    0.370  149.749       298893             4.0  1999    1999-11-02  \n",
       "3    0.574   96.752       213640             4.0  1999    1999-11-02  \n",
       "4    0.539  127.059       205600             4.0  1999    1999-11-02  \n",
       "\n",
       "[5 rows x 24 columns]"
      ]
     },
     "execution_count": 35,
     "metadata": {},
     "output_type": "execute_result"
    }
   ],
   "source": [
    "track_df=pd.read_csv(\"tracks_features.csv\")\n",
    "print(track_df.columns)\n",
    "track_df.head()"
   ]
  },
  {
   "cell_type": "markdown",
   "metadata": {},
   "source": [
    "# Data Analysis "
   ]
  },
  {
   "cell_type": "code",
   "execution_count": 4,
   "metadata": {},
   "outputs": [
    {
     "data": {
      "text/plain": [
       "<AxesSubplot:>"
      ]
     },
     "execution_count": 4,
     "metadata": {},
     "output_type": "execute_result"
    },
    {
     "data": {
      "image/png": "[encoded data removed]",
      "text/plain": [
       "<Figure size 720x432 with 2 Axes>"
      ]
     },
     "metadata": {
      "needs_background": "light"
     },
     "output_type": "display_data"
    }
   ],
   "source": [
    "plt.figure(figsize=(10,6))\n",
    "corr=track_df.corr()\n",
    "mask=np.triu(np.ones_like(corr,dtype=bool))\n",
    "sns.heatmap(corr,mask=mask,vmin=-1,cmap='viridis',annot=False)"
   ]
  },
  {
   "cell_type": "markdown",
   "metadata": {},
   "source": [
    "# Preprocess Dataframe"
   ]
  },
  {
   "cell_type": "code",
   "execution_count": 6,
   "metadata": {},
   "outputs": [
    {
     "data": {
      "text/html": [
       "<div>\n",
       "<style scoped>\n",
       "    .dataframe tbody tr th:only-of-type {\n",
       "        vertical-align: middle;\n",
       "    }\n",
       "\n",
       "    .dataframe tbody tr th {\n",
       "        vertical-align: top;\n",
       "    }\n",
       "\n",
       "    .dataframe thead th {\n",
       "        text-align: right;\n",
       "    }\n",
       "</style>\n",
       "<table border=\"1\" class=\"dataframe\">\n",
       "  <thead>\n",
       "    <tr style=\"text-align: right;\">\n",
       "      <th></th>\n",
       "      <th>artists</th>\n",
       "      <th>name</th>\n",
       "    </tr>\n",
       "  </thead>\n",
       "  <tbody>\n",
       "    <tr>\n",
       "      <th>0</th>\n",
       "      <td>['Rage Against The Machine']</td>\n",
       "      <td>Testify</td>\n",
       "    </tr>\n",
       "    <tr>\n",
       "      <th>1</th>\n",
       "      <td>['Rage Against The Machine']</td>\n",
       "      <td>Guerrilla Radio</td>\n",
       "    </tr>\n",
       "    <tr>\n",
       "      <th>2</th>\n",
       "      <td>['Rage Against The Machine']</td>\n",
       "      <td>Calm Like a Bomb</td>\n",
       "    </tr>\n",
       "    <tr>\n",
       "      <th>3</th>\n",
       "      <td>['Rage Against The Machine']</td>\n",
       "      <td>Mic Check</td>\n",
       "    </tr>\n",
       "    <tr>\n",
       "      <th>4</th>\n",
       "      <td>['Rage Against The Machine']</td>\n",
       "      <td>Sleep Now In the Fire</td>\n",
       "    </tr>\n",
       "    <tr>\n",
       "      <th>...</th>\n",
       "      <td>...</td>\n",
       "      <td>...</td>\n",
       "    </tr>\n",
       "    <tr>\n",
       "      <th>1204020</th>\n",
       "      <td>['FVLCRVM']</td>\n",
       "      <td>Gospel of Juke</td>\n",
       "    </tr>\n",
       "    <tr>\n",
       "      <th>1204021</th>\n",
       "      <td>['FVLCRVM']</td>\n",
       "      <td>Prism Visions</td>\n",
       "    </tr>\n",
       "    <tr>\n",
       "      <th>1204022</th>\n",
       "      <td>['FVLCRVM']</td>\n",
       "      <td>Tokyo 360</td>\n",
       "    </tr>\n",
       "    <tr>\n",
       "      <th>1204023</th>\n",
       "      <td>['FVLCRVM']</td>\n",
       "      <td>Yummy!</td>\n",
       "    </tr>\n",
       "    <tr>\n",
       "      <th>1204024</th>\n",
       "      <td>['FVLCRVM']</td>\n",
       "      <td>That's The Way It Is</td>\n",
       "    </tr>\n",
       "  </tbody>\n",
       "</table>\n",
       "<p>1204025 rows × 2 columns</p>\n",
       "</div>"
      ],
      "text/plain": [
       "                              artists                   name\n",
       "0        ['Rage Against The Machine']                Testify\n",
       "1        ['Rage Against The Machine']        Guerrilla Radio\n",
       "2        ['Rage Against The Machine']       Calm Like a Bomb\n",
       "3        ['Rage Against The Machine']              Mic Check\n",
       "4        ['Rage Against The Machine']  Sleep Now In the Fire\n",
       "...                               ...                    ...\n",
       "1204020                   ['FVLCRVM']         Gospel of Juke\n",
       "1204021                   ['FVLCRVM']          Prism Visions\n",
       "1204022                   ['FVLCRVM']              Tokyo 360\n",
       "1204023                   ['FVLCRVM']                 Yummy!\n",
       "1204024                   ['FVLCRVM']   That's The Way It Is\n",
       "\n",
       "[1204025 rows x 2 columns]"
      ]
     },
     "execution_count": 6,
     "metadata": {},
     "output_type": "execute_result"
    }
   ],
   "source": [
    "track_df[['artists','name']]"
   ]
  },
  {
   "cell_type": "code",
   "execution_count": 7,
   "metadata": {},
   "outputs": [
    {
     "data": {
      "text/html": [
       "<div>\n",
       "<style scoped>\n",
       "    .dataframe tbody tr th:only-of-type {\n",
       "        vertical-align: middle;\n",
       "    }\n",
       "\n",
       "    .dataframe tbody tr th {\n",
       "        vertical-align: top;\n",
       "    }\n",
       "\n",
       "    .dataframe thead th {\n",
       "        text-align: right;\n",
       "    }\n",
       "</style>\n",
       "<table border=\"1\" class=\"dataframe\">\n",
       "  <thead>\n",
       "    <tr style=\"text-align: right;\">\n",
       "      <th></th>\n",
       "      <th>artists</th>\n",
       "      <th>id</th>\n",
       "      <th>name</th>\n",
       "      <th>danceability</th>\n",
       "      <th>energy</th>\n",
       "      <th>key</th>\n",
       "      <th>loudness</th>\n",
       "      <th>mode</th>\n",
       "      <th>speechiness</th>\n",
       "      <th>acousticness</th>\n",
       "      <th>instrumentalness</th>\n",
       "      <th>liveness</th>\n",
       "      <th>valence</th>\n",
       "      <th>tempo</th>\n",
       "    </tr>\n",
       "  </thead>\n",
       "  <tbody>\n",
       "    <tr>\n",
       "      <th>0</th>\n",
       "      <td>['Rage Against The Machine']</td>\n",
       "      <td>7lmeHLHBe4nmXzuXc0HDjk</td>\n",
       "      <td>Testify</td>\n",
       "      <td>0.470</td>\n",
       "      <td>0.978</td>\n",
       "      <td>7</td>\n",
       "      <td>-5.399</td>\n",
       "      <td>1</td>\n",
       "      <td>0.0727</td>\n",
       "      <td>0.02610</td>\n",
       "      <td>0.000011</td>\n",
       "      <td>0.3560</td>\n",
       "      <td>0.503</td>\n",
       "      <td>117.906</td>\n",
       "    </tr>\n",
       "    <tr>\n",
       "      <th>1</th>\n",
       "      <td>['Rage Against The Machine']</td>\n",
       "      <td>1wsRitfRRtWyEapl0q22o8</td>\n",
       "      <td>Guerrilla Radio</td>\n",
       "      <td>0.599</td>\n",
       "      <td>0.957</td>\n",
       "      <td>11</td>\n",
       "      <td>-5.764</td>\n",
       "      <td>1</td>\n",
       "      <td>0.1880</td>\n",
       "      <td>0.01290</td>\n",
       "      <td>0.000071</td>\n",
       "      <td>0.1550</td>\n",
       "      <td>0.489</td>\n",
       "      <td>103.680</td>\n",
       "    </tr>\n",
       "    <tr>\n",
       "      <th>2</th>\n",
       "      <td>['Rage Against The Machine']</td>\n",
       "      <td>1hR0fIFK2qRG3f3RF70pb7</td>\n",
       "      <td>Calm Like a Bomb</td>\n",
       "      <td>0.315</td>\n",
       "      <td>0.970</td>\n",
       "      <td>7</td>\n",
       "      <td>-5.424</td>\n",
       "      <td>1</td>\n",
       "      <td>0.4830</td>\n",
       "      <td>0.02340</td>\n",
       "      <td>0.000002</td>\n",
       "      <td>0.1220</td>\n",
       "      <td>0.370</td>\n",
       "      <td>149.749</td>\n",
       "    </tr>\n",
       "    <tr>\n",
       "      <th>3</th>\n",
       "      <td>['Rage Against The Machine']</td>\n",
       "      <td>2lbASgTSoDO7MTuLAXlTW0</td>\n",
       "      <td>Mic Check</td>\n",
       "      <td>0.440</td>\n",
       "      <td>0.967</td>\n",
       "      <td>11</td>\n",
       "      <td>-5.830</td>\n",
       "      <td>0</td>\n",
       "      <td>0.2370</td>\n",
       "      <td>0.16300</td>\n",
       "      <td>0.000004</td>\n",
       "      <td>0.1210</td>\n",
       "      <td>0.574</td>\n",
       "      <td>96.752</td>\n",
       "    </tr>\n",
       "    <tr>\n",
       "      <th>4</th>\n",
       "      <td>['Rage Against The Machine']</td>\n",
       "      <td>1MQTmpYOZ6fcMQc56Hdo7T</td>\n",
       "      <td>Sleep Now In the Fire</td>\n",
       "      <td>0.426</td>\n",
       "      <td>0.929</td>\n",
       "      <td>2</td>\n",
       "      <td>-6.729</td>\n",
       "      <td>1</td>\n",
       "      <td>0.0701</td>\n",
       "      <td>0.00162</td>\n",
       "      <td>0.105000</td>\n",
       "      <td>0.0789</td>\n",
       "      <td>0.539</td>\n",
       "      <td>127.059</td>\n",
       "    </tr>\n",
       "  </tbody>\n",
       "</table>\n",
       "</div>"
      ],
      "text/plain": [
       "                        artists                      id  \\\n",
       "0  ['Rage Against The Machine']  7lmeHLHBe4nmXzuXc0HDjk   \n",
       "1  ['Rage Against The Machine']  1wsRitfRRtWyEapl0q22o8   \n",
       "2  ['Rage Against The Machine']  1hR0fIFK2qRG3f3RF70pb7   \n",
       "3  ['Rage Against The Machine']  2lbASgTSoDO7MTuLAXlTW0   \n",
       "4  ['Rage Against The Machine']  1MQTmpYOZ6fcMQc56Hdo7T   \n",
       "\n",
       "                    name  danceability  energy  key  loudness  mode  \\\n",
       "0                Testify         0.470   0.978    7    -5.399     1   \n",
       "1        Guerrilla Radio         0.599   0.957   11    -5.764     1   \n",
       "2       Calm Like a Bomb         0.315   0.970    7    -5.424     1   \n",
       "3              Mic Check         0.440   0.967   11    -5.830     0   \n",
       "4  Sleep Now In the Fire         0.426   0.929    2    -6.729     1   \n",
       "\n",
       "   speechiness  acousticness  instrumentalness  liveness  valence    tempo  \n",
       "0       0.0727       0.02610          0.000011    0.3560    0.503  117.906  \n",
       "1       0.1880       0.01290          0.000071    0.1550    0.489  103.680  \n",
       "2       0.4830       0.02340          0.000002    0.1220    0.370  149.749  \n",
       "3       0.2370       0.16300          0.000004    0.1210    0.574   96.752  \n",
       "4       0.0701       0.00162          0.105000    0.0789    0.539  127.059  "
      ]
     },
     "execution_count": 7,
     "metadata": {},
     "output_type": "execute_result"
    }
   ],
   "source": [
    "def select_cols(df):\n",
    "       return df[['artists','id','name','danceability', 'energy', 'key', 'loudness', 'mode',\n",
    "       'speechiness', 'acousticness', 'instrumentalness', 'liveness', 'valence', 'tempo']]\n",
    "\n",
    "track_dfp=select_cols(track_df)\n",
    "track_dfp.head()"
   ]
  },
  {
   "cell_type": "markdown",
   "metadata": {},
   "source": [
    "# Clustering Preprocessing"
   ]
  },
  {
   "cell_type": "code",
   "execution_count": 8,
   "metadata": {},
   "outputs": [
    {
     "name": "stdout",
     "output_type": "stream",
     "text": [
      "   danceability    energy       key  loudness      mode  speechiness  \\\n",
      "0     -0.121562  1.589717  0.510599  0.918016  0.699495    -0.100716   \n",
      "1      0.558569  1.518454  1.641587  0.865739  0.699495     0.893324   \n",
      "2     -0.938773  1.562569  0.510599  0.914435  0.699495     3.436618   \n",
      "3     -0.279732  1.552388  1.641587  0.856287 -1.429603     1.315769   \n",
      "4     -0.353544  1.423437 -0.903137  0.727529  0.699495    -0.123132   \n",
      "\n",
      "   acousticness  instrumentalness  liveness   valence     tempo  \n",
      "0     -1.092029         -0.751691  0.855599  0.277330  0.008781  \n",
      "1     -1.126297         -0.751533 -0.258227  0.225571 -0.451057  \n",
      "2     -1.099039         -0.751715 -0.441094 -0.214381  1.038065  \n",
      "3     -0.736631         -0.751711 -0.446636  0.539822 -0.674995  \n",
      "4     -1.155581         -0.472676 -0.679930  0.410424  0.304640  \n"
     ]
    }
   ],
   "source": [
    "#Scaling Data \n",
    "\n",
    "from sklearn.preprocessing import StandardScaler \n",
    "def scale_data(dataframe):\n",
    "    df=dataframe.select_dtypes(np.number)\n",
    "    number_cols=list(df.columns)\n",
    "    scaler=StandardScaler()\n",
    "    scaled_x=scaler.fit_transform(df.values)\n",
    "    scaled_df=pd.DataFrame(scaled_x,columns=df.columns)\n",
    "    print(scaled_df.head())\n",
    "    return scaled_df\n",
    "\n",
    "scaled_df=scale_data(track_dfp)"
   ]
  },
  {
   "cell_type": "code",
   "execution_count": 9,
   "metadata": {},
   "outputs": [],
   "source": [
    "from sklearn.decomposition import PCA \n",
    "pca=PCA(n_components=2)\n",
    "pca.fit(scaled_df)\n",
    "pca_dfp=pca.transform(scaled_df)"
   ]
  },
  {
   "cell_type": "markdown",
   "metadata": {},
   "source": [
    "# K-Means Clustering"
   ]
  },
  {
   "cell_type": "code",
   "execution_count": 36,
   "metadata": {},
   "outputs": [],
   "source": [
    "from sklearn.cluster import KMeans\n",
    "from sklearn.metrics import silhouette_score"
   ]
  },
  {
   "cell_type": "code",
   "execution_count": 57,
   "metadata": {},
   "outputs": [],
   "source": [
    "wcss=[]\n",
    "for i in range(1,11):\n",
    "    kmeans=KMeans(n_clusters=i,random_state=0)\n",
    "    kmeans.fit(pca_dfp)\n",
    "    wcss.append(kmeans.inertia_)"
   ]
  },
  {
   "cell_type": "code",
   "execution_count": 59,
   "metadata": {},
   "outputs": [
    {
     "data": {
      "image/png": "[encoded data removed]",
      "text/plain": [
       "<Figure size 432x288 with 1 Axes>"
      ]
     },
     "metadata": {},
     "output_type": "display_data"
    }
   ],
   "source": [
    "sns.set()\n",
    "plt.plot(range(1,11),wcss)\n",
    "plt.xlabel('Values of Clusters') \n",
    "plt.ylabel('WCSS') \n",
    "plt.title('WCSS analysis For Optimal Clusters')\n",
    "plt.show()"
   ]
  },
  {
   "cell_type": "code",
   "execution_count": 60,
   "metadata": {},
   "outputs": [
    {
     "name": "stdout",
     "output_type": "stream",
     "text": [
      "Initialization complete\n",
      "Iteration 0, inertia 4825319.036885269\n",
      "Iteration 1, inertia 2815231.007971715\n",
      "Iteration 2, inertia 2605274.202318157\n",
      "Iteration 3, inertia 2558910.8257420803\n",
      "Iteration 4, inertia 2547351.5532049886\n",
      "Iteration 5, inertia 2544352.5078764562\n",
      "Iteration 6, inertia 2543556.335175425\n",
      "Iteration 7, inertia 2543351.426701178\n",
      "Converged at iteration 7: center shift 7.01225336400738e-05 within tolerance 0.0002298799599551265.\n",
      "Initialization complete\n",
      "Iteration 0, inertia 4659731.159471334\n",
      "Iteration 1, inertia 2561975.2766133626\n",
      "Iteration 2, inertia 2545412.5215864554\n",
      "Iteration 3, inertia 2543635.8652553097\n",
      "Iteration 4, inertia 2543359.3659248403\n",
      "Converged at iteration 4: center shift 7.919156995893021e-05 within tolerance 0.0002298799599551265.\n",
      "Initialization complete\n",
      "Iteration 0, inertia 4119441.2540626614\n",
      "Iteration 1, inertia 2981716.9776873942\n",
      "Iteration 2, inertia 2662919.058721712\n",
      "Iteration 3, inertia 2575240.6208669385\n",
      "Iteration 4, inertia 2551831.6537835104\n",
      "Iteration 5, inertia 2545544.7615916007\n",
      "Iteration 6, inertia 2543878.229991171\n",
      "Iteration 7, inertia 2543435.369761275\n",
      "Converged at iteration 7: center shift 0.00015357672844003317 within tolerance 0.0002298799599551265.\n",
      "Initialization complete\n",
      "Iteration 0, inertia 4276967.916178777\n",
      "Iteration 1, inertia 2651687.701236388\n",
      "Iteration 2, inertia 2568980.1595978206\n",
      "Iteration 3, inertia 2549814.58390881\n",
      "Iteration 4, inertia 2544954.0509938565\n",
      "Iteration 5, inertia 2543695.73052718\n",
      "Iteration 6, inertia 2543379.3997570924\n",
      "Converged at iteration 6: center shift 0.00010343692460088753 within tolerance 0.0002298799599551265.\n",
      "Initialization complete\n",
      "Iteration 0, inertia 3824125.4944243515\n",
      "Iteration 1, inertia 2667894.0160759464\n",
      "Iteration 2, inertia 2576816.9273619745\n",
      "Iteration 3, inertia 2552331.9306436265\n",
      "Iteration 4, inertia 2545677.508957518\n",
      "Iteration 5, inertia 2543911.5587669197\n",
      "Iteration 6, inertia 2543444.294524471\n",
      "Converged at iteration 6: center shift 0.0001635019156334315 within tolerance 0.0002298799599551265.\n",
      "Initialization complete\n",
      "Iteration 0, inertia 5526935.131434599\n",
      "Iteration 1, inertia 3088693.0584309683\n",
      "Iteration 2, inertia 2670559.362593543\n",
      "Iteration 3, inertia 2575114.092719803\n",
      "Iteration 4, inertia 2551546.125446812\n",
      "Iteration 5, inertia 2545446.4967176174\n",
      "Iteration 6, inertia 2543847.758508251\n",
      "Iteration 7, inertia 2543427.5044962005\n",
      "Converged at iteration 7: center shift 0.00014379443686810336 within tolerance 0.0002298799599551265.\n",
      "Initialization complete\n",
      "Iteration 0, inertia 7312540.964611873\n",
      "Iteration 1, inertia 2791345.6732129604\n",
      "Iteration 2, inertia 2593474.5628493745\n",
      "Iteration 3, inertia 2555372.5708944234\n",
      "Iteration 4, inertia 2546353.7751518004\n",
      "Iteration 5, inertia 2544083.2152242693\n",
      "Iteration 6, inertia 2543486.076602285\n",
      "Converged at iteration 6: center shift 0.00020362502741029577 within tolerance 0.0002298799599551265.\n",
      "Initialization complete\n",
      "Iteration 0, inertia 4159709.8888160884\n",
      "Iteration 1, inertia 2552124.9091740637\n",
      "Iteration 2, inertia 2545498.6705741296\n",
      "Iteration 3, inertia 2543853.005004116\n",
      "Iteration 4, inertia 2543428.5156034282\n",
      "Converged at iteration 4: center shift 0.0001466282574383241 within tolerance 0.0002298799599551265.\n",
      "Initialization complete\n",
      "Iteration 0, inertia 3356511.514010278\n",
      "Iteration 1, inertia 2709113.5723990756\n",
      "Iteration 2, inertia 2581652.0893891836\n",
      "Iteration 3, inertia 2552678.4727561283\n",
      "Iteration 4, inertia 2545685.1088947067\n",
      "Iteration 5, inertia 2543906.722660535\n",
      "Iteration 6, inertia 2543442.157504093\n",
      "Converged at iteration 6: center shift 0.0001595837198658415 within tolerance 0.0002298799599551265.\n",
      "Initialization complete\n",
      "Iteration 0, inertia 4219984.122689842\n",
      "Iteration 1, inertia 2572580.584479737\n",
      "Iteration 2, inertia 2549334.7565124272\n",
      "Iteration 3, inertia 2544764.1674997886\n",
      "Iteration 4, inertia 2543646.1844385676\n",
      "Iteration 5, inertia 2543366.855115121\n",
      "Converged at iteration 5: center shift 9.065696105314681e-05 within tolerance 0.0002298799599551265.\n"
     ]
    },
    {
     "data": {
      "text/plain": [
       "KMeans(n_clusters=2, verbose=2)"
      ]
     },
     "execution_count": 60,
     "metadata": {},
     "output_type": "execute_result"
    }
   ],
   "source": [
    "kmeans=KMeans(n_clusters=2 , verbose=2)\n",
    "kmeans.fit(pca_dfp)"
   ]
  },
  {
   "cell_type": "code",
   "execution_count": 61,
   "metadata": {},
   "outputs": [],
   "source": [
    "spotify_kmeans=track_dfp.copy()\n",
    "spotify_kmeans['cluster_label']=kmeans.predict(pca_dfp)"
   ]
  },
  {
   "cell_type": "markdown",
   "metadata": {},
   "source": [
    "# Gaussian Mixture"
   ]
  },
  {
   "cell_type": "code",
   "execution_count": 51,
   "metadata": {},
   "outputs": [],
   "source": [
    "from sklearn.mixture import GaussianMixture"
   ]
  },
  {
   "cell_type": "code",
   "execution_count": 53,
   "metadata": {},
   "outputs": [
    {
     "data": {
      "text/plain": [
       "GaussianMixture(n_components=8)"
      ]
     },
     "execution_count": 53,
     "metadata": {},
     "output_type": "execute_result"
    }
   ],
   "source": [
    "gaussian=GaussianMixture(n_components=8)\n",
    "gaussian.fit(pca_dfp)"
   ]
  },
  {
   "cell_type": "code",
   "execution_count": 55,
   "metadata": {},
   "outputs": [],
   "source": [
    "spotify_gaussian=track_dfp.copy()\n",
    "spotify_gaussian['cluster_label']=gaussian.predict(pca_dfp)"
   ]
  },
  {
   "cell_type": "markdown",
   "metadata": {},
   "source": [
    "# Mini-Batch Kmeans Clustering"
   ]
  },
  {
   "cell_type": "code",
   "execution_count": 42,
   "metadata": {},
   "outputs": [],
   "source": [
    "from sklearn.cluster import MiniBatchKMeans"
   ]
  },
  {
   "cell_type": "code",
   "execution_count": 43,
   "metadata": {},
   "outputs": [
    {
     "data": {
      "text/plain": [
       "MiniBatchKMeans(batch_size=32, random_state=23)"
      ]
     },
     "execution_count": 43,
     "metadata": {},
     "output_type": "execute_result"
    }
   ],
   "source": [
    "minikmeans = MiniBatchKMeans(n_clusters=8,random_state=23,batch_size=32)\n",
    "minikmeans.fit(pca_dfp)"
   ]
  },
  {
   "cell_type": "code",
   "execution_count": 45,
   "metadata": {},
   "outputs": [],
   "source": [
    "spotify_kmeans=track_dfp.copy()\n",
    "spotify_kmeans['cluster_label']=minikmeans.predict(pca_dfp)"
   ]
  },
  {
   "cell_type": "markdown",
   "metadata": {},
   "source": [
    "# Compare Clustering Models"
   ]
  },
  {
   "cell_type": "code",
   "execution_count": null,
   "metadata": {},
   "outputs": [],
   "source": []
  },
  {
   "cell_type": "markdown",
   "metadata": {},
   "source": [
    "# Get User Data with Spotify API "
   ]
  },
  {
   "cell_type": "code",
   "execution_count": 70,
   "metadata": {},
   "outputs": [],
   "source": [
    "#Authentication - without user\n",
    "client_credentials_manager = SpotifyClientCredentials(client_id='e894378a77d9492c85494e7a6e6b5b9a', client_secret='24243b151a524a1ab35e6284785e7d1e')\n",
    "sp = spotipy.Spotify(auth_manager=SpotifyOAuth(scope=\"playlist-modify-private\", client_id='e894378a77d9492c85494e7a6e6b5b9a', client_secret='24243b151a524a1ab35e6284785e7d1e',redirect_uri=\"http://example.com\"))"
   ]
  },
  {
   "cell_type": "code",
   "execution_count": 71,
   "metadata": {},
   "outputs": [],
   "source": [
    "#User Test Playlist \n",
    "playlist_link = \"https://open.spotify.com/playlist/37i9dQZF1DWSqBruwoIXkA?si=1333723a6eff4b7f&nd=1\"\n",
    "playlist_URI = playlist_link.split(\"/\")[-1].split(\"?\")[0]\n",
    "track_uris = [x[\"track\"][\"uri\"]for x in sp.playlist_tracks(playlist_URI)[\"items\"]]"
   ]
  },
  {
   "cell_type": "code",
   "execution_count": 72,
   "metadata": {},
   "outputs": [],
   "source": [
    "artist_name=[]\n",
    "track_url=[]\n",
    "track_name=[]\n",
    "danceability=[]\n",
    "energy=[]\n",
    "key=[]\n",
    "loudness=[]\n",
    "mode=[]\n",
    "speechiness=[]\n",
    "acousticness=[]\n",
    "instrumentalness=[]\n",
    "liveness=[]\n",
    "valence=[]\n",
    "tempo=[]\n",
    "\n",
    "for track in sp.playlist_tracks(playlist_URI)[\"items\"]:\n",
    "    \n",
    "    #Track \n",
    "    track_name.append(track[\"track\"][\"name\"])\n",
    "    track_id=track[\"track\"][\"id\"]\n",
    "    track_url.append(track[\"track\"][\"uri\"])\n",
    "    \n",
    "    #Artist Name\n",
    "    artist_name.append(track[\"track\"][\"artists\"][0][\"name\"])\n",
    "    \n",
    "    #Track Attributes \n",
    "    track_af=sp.audio_features(track_id)\n",
    "    danceability.append(track_af[0]['danceability'])\n",
    "    energy.append(track_af[0]['energy'])\n",
    "    key.append(track_af[0]['key'])\n",
    "    loudness.append(track_af[0]['loudness'])\n",
    "    mode.append(track_af[0]['mode'])\n",
    "    speechiness.append(track_af[0]['speechiness'])\n",
    "    acousticness.append(track_af[0]['acousticness'])\n",
    "    instrumentalness.append(track_af[0]['instrumentalness'])\n",
    "    liveness.append(track_af[0]['liveness'])\n",
    "    valence.append(track_af[0]['valence'])\n",
    "    tempo.append(track_af[0]['tempo'])\n"
   ]
  },
  {
   "cell_type": "code",
   "execution_count": 73,
   "metadata": {
    "scrolled": false
   },
   "outputs": [
    {
     "name": "stdout",
     "output_type": "stream",
     "text": [
      "(100, 14)\n"
     ]
    },
    {
     "data": {
      "text/html": [
       "<div>\n",
       "<style scoped>\n",
       "    .dataframe tbody tr th:only-of-type {\n",
       "        vertical-align: middle;\n",
       "    }\n",
       "\n",
       "    .dataframe tbody tr th {\n",
       "        vertical-align: top;\n",
       "    }\n",
       "\n",
       "    .dataframe thead th {\n",
       "        text-align: right;\n",
       "    }\n",
       "</style>\n",
       "<table border=\"1\" class=\"dataframe\">\n",
       "  <thead>\n",
       "    <tr style=\"text-align: right;\">\n",
       "      <th></th>\n",
       "      <th>artists</th>\n",
       "      <th>id</th>\n",
       "      <th>name</th>\n",
       "      <th>danceability</th>\n",
       "      <th>energy</th>\n",
       "      <th>key</th>\n",
       "      <th>loudness</th>\n",
       "      <th>mode</th>\n",
       "      <th>speechiness</th>\n",
       "      <th>acousticness</th>\n",
       "      <th>instrumentalness</th>\n",
       "      <th>liveness</th>\n",
       "      <th>valence</th>\n",
       "      <th>tempo</th>\n",
       "    </tr>\n",
       "  </thead>\n",
       "  <tbody>\n",
       "    <tr>\n",
       "      <th>0</th>\n",
       "      <td>Charlotte Lawrence</td>\n",
       "      <td>spotify:track:0n7G59orkm7Sh7rvOXAopY</td>\n",
       "      <td>Bodybag</td>\n",
       "      <td>0.477</td>\n",
       "      <td>0.268</td>\n",
       "      <td>4</td>\n",
       "      <td>-10.627</td>\n",
       "      <td>1</td>\n",
       "      <td>0.0355</td>\n",
       "      <td>0.847</td>\n",
       "      <td>0.000000</td>\n",
       "      <td>0.0629</td>\n",
       "      <td>0.127</td>\n",
       "      <td>115.368</td>\n",
       "    </tr>\n",
       "    <tr>\n",
       "      <th>1</th>\n",
       "      <td>Jenna Raine</td>\n",
       "      <td>spotify:track:08uYRkYyBrEBAolgY5irVW</td>\n",
       "      <td>Stupid Cupid</td>\n",
       "      <td>0.645</td>\n",
       "      <td>0.465</td>\n",
       "      <td>10</td>\n",
       "      <td>-8.422</td>\n",
       "      <td>1</td>\n",
       "      <td>0.0339</td>\n",
       "      <td>0.115</td>\n",
       "      <td>0.000001</td>\n",
       "      <td>0.2130</td>\n",
       "      <td>0.301</td>\n",
       "      <td>131.916</td>\n",
       "    </tr>\n",
       "    <tr>\n",
       "      <th>2</th>\n",
       "      <td>Ed Sheeran</td>\n",
       "      <td>spotify:track:1C0Uqh9cRMLPw9WpZzL4Z1</td>\n",
       "      <td>Eyes Closed - Piano Version</td>\n",
       "      <td>0.602</td>\n",
       "      <td>0.325</td>\n",
       "      <td>2</td>\n",
       "      <td>-7.367</td>\n",
       "      <td>1</td>\n",
       "      <td>0.0424</td>\n",
       "      <td>0.900</td>\n",
       "      <td>0.000011</td>\n",
       "      <td>0.1360</td>\n",
       "      <td>0.437</td>\n",
       "      <td>105.890</td>\n",
       "    </tr>\n",
       "    <tr>\n",
       "      <th>3</th>\n",
       "      <td>Cloudy June</td>\n",
       "      <td>spotify:track:7zU7vNJiit9Ep9AtPyuKBl</td>\n",
       "      <td>Love Under The Influence</td>\n",
       "      <td>0.386</td>\n",
       "      <td>0.458</td>\n",
       "      <td>5</td>\n",
       "      <td>-8.791</td>\n",
       "      <td>1</td>\n",
       "      <td>0.0423</td>\n",
       "      <td>0.422</td>\n",
       "      <td>0.000000</td>\n",
       "      <td>0.1020</td>\n",
       "      <td>0.346</td>\n",
       "      <td>137.489</td>\n",
       "    </tr>\n",
       "    <tr>\n",
       "      <th>4</th>\n",
       "      <td>Cian Ducrot</td>\n",
       "      <td>spotify:track:22UYp7aAy1XmIYZ1GsnJuB</td>\n",
       "      <td>Part Of Me</td>\n",
       "      <td>0.637</td>\n",
       "      <td>0.513</td>\n",
       "      <td>1</td>\n",
       "      <td>-6.797</td>\n",
       "      <td>1</td>\n",
       "      <td>0.0367</td>\n",
       "      <td>0.518</td>\n",
       "      <td>0.000000</td>\n",
       "      <td>0.1240</td>\n",
       "      <td>0.234</td>\n",
       "      <td>141.907</td>\n",
       "    </tr>\n",
       "  </tbody>\n",
       "</table>\n",
       "</div>"
      ],
      "text/plain": [
       "              artists                                    id  \\\n",
       "0  Charlotte Lawrence  spotify:track:0n7G59orkm7Sh7rvOXAopY   \n",
       "1         Jenna Raine  spotify:track:08uYRkYyBrEBAolgY5irVW   \n",
       "2          Ed Sheeran  spotify:track:1C0Uqh9cRMLPw9WpZzL4Z1   \n",
       "3         Cloudy June  spotify:track:7zU7vNJiit9Ep9AtPyuKBl   \n",
       "4         Cian Ducrot  spotify:track:22UYp7aAy1XmIYZ1GsnJuB   \n",
       "\n",
       "                          name  danceability  energy  key  loudness  mode  \\\n",
       "0                      Bodybag         0.477   0.268    4   -10.627     1   \n",
       "1                 Stupid Cupid         0.645   0.465   10    -8.422     1   \n",
       "2  Eyes Closed - Piano Version         0.602   0.325    2    -7.367     1   \n",
       "3     Love Under The Influence         0.386   0.458    5    -8.791     1   \n",
       "4                   Part Of Me         0.637   0.513    1    -6.797     1   \n",
       "\n",
       "   speechiness  acousticness  instrumentalness  liveness  valence    tempo  \n",
       "0       0.0355         0.847          0.000000    0.0629    0.127  115.368  \n",
       "1       0.0339         0.115          0.000001    0.2130    0.301  131.916  \n",
       "2       0.0424         0.900          0.000011    0.1360    0.437  105.890  \n",
       "3       0.0423         0.422          0.000000    0.1020    0.346  137.489  \n",
       "4       0.0367         0.518          0.000000    0.1240    0.234  141.907  "
      ]
     },
     "execution_count": 73,
     "metadata": {},
     "output_type": "execute_result"
    }
   ],
   "source": [
    "track_dataframe = pd.DataFrame({'artists' : artist_name,'id':track_url,'name' : track_name, 'danceability' : danceability, 'energy' : energy, 'key' : key, 'loudness':loudness,'mode':mode,'speechiness':speechiness,'acousticness':acousticness,'instrumentalness':instrumentalness,'liveness':liveness,'valence':valence,'tempo':tempo})\n",
    "print(track_dataframe.shape)\n",
    "track_dataframe.to_csv(\"test_playlist.csv\")\n",
    "track_dataframe.head()"
   ]
  },
  {
   "cell_type": "markdown",
   "metadata": {},
   "source": [
    "# Content Based Recommendation System"
   ]
  },
  {
   "cell_type": "code",
   "execution_count": 64,
   "metadata": {},
   "outputs": [],
   "source": [
    "from sklearn.pipeline import Pipeline"
   ]
  },
  {
   "cell_type": "code",
   "execution_count": 65,
   "metadata": {},
   "outputs": [
    {
     "name": "stdout",
     "output_type": "stream",
     "text": [
      "[Pipeline] ............ (step 1 of 2) Processing scaler, total=   0.5s\n",
      "Initialization complete\n",
      "Iteration 0, inertia 22895878.928487502\n",
      "Iteration 1, inertia 12003804.563236043\n",
      "Iteration 2, inertia 11514933.785823666\n",
      "Iteration 3, inertia 10759843.847978404\n",
      "Iteration 4, inertia 10375560.771158444\n",
      "Iteration 5, inertia 10278573.02693207\n",
      "Iteration 6, inertia 10253987.238237338\n",
      "Iteration 7, inertia 10247130.79656595\n",
      "Iteration 8, inertia 10245112.494374808\n",
      "Iteration 9, inertia 10244526.983652635\n",
      "Iteration 10, inertia 10244368.26158812\n",
      "Converged at iteration 10: center shift 6.00260399236519e-05 within tolerance 9.999999999979744e-05.\n",
      "Initialization complete\n",
      "Iteration 0, inertia 19652711.389682207\n",
      "Iteration 1, inertia 10764708.397362022\n",
      "Iteration 2, inertia 10325210.1414487\n",
      "Iteration 3, inertia 10263703.375220386\n",
      "Iteration 4, inertia 10249840.336062634\n",
      "Iteration 5, inertia 10245916.777560184\n",
      "Iteration 6, inertia 10244758.617925877\n",
      "Iteration 7, inertia 10244430.604538007\n",
      "Iteration 8, inertia 10244339.511649035\n",
      "Converged at iteration 8: center shift 3.609829198647522e-05 within tolerance 9.999999999979744e-05.\n",
      "Initialization complete\n",
      "Iteration 0, inertia 19567964.87632524\n",
      "Iteration 1, inertia 11775004.217183072\n",
      "Iteration 2, inertia 10776345.399839588\n",
      "Iteration 3, inertia 10324231.024350548\n",
      "Iteration 4, inertia 10255549.344859391\n",
      "Iteration 5, inertia 10246685.301140748\n",
      "Iteration 6, inertia 10244923.483076824\n",
      "Iteration 7, inertia 10244473.644680014\n",
      "Iteration 8, inertia 10244352.672168437\n",
      "Converged at iteration 8: center shift 4.769239169139336e-05 within tolerance 9.999999999979744e-05.\n",
      "Initialization complete\n",
      "Iteration 0, inertia 15849392.537544105\n",
      "Iteration 1, inertia 10259780.02086736\n",
      "Iteration 2, inertia 10246436.433803476\n",
      "Iteration 3, inertia 10244849.423208559\n",
      "Iteration 4, inertia 10244459.968934258\n",
      "Iteration 5, inertia 10244347.399206726\n",
      "Converged at iteration 5: center shift 4.192175646505815e-05 within tolerance 9.999999999979744e-05.\n",
      "Initialization complete\n",
      "Iteration 0, inertia 16273543.6722764\n",
      "Iteration 1, inertia 10744982.087808853\n",
      "Iteration 2, inertia 10343673.029216778\n",
      "Iteration 3, inertia 10269465.885685602\n",
      "Iteration 4, inertia 10251481.307498163\n",
      "Iteration 5, inertia 10246408.974139843\n",
      "Iteration 6, inertia 10244896.863835057\n",
      "Iteration 7, inertia 10244470.452687364\n",
      "Iteration 8, inertia 10244352.210996317\n",
      "Converged at iteration 8: center shift 4.756620123538522e-05 within tolerance 9.999999999979744e-05.\n",
      "Initialization complete\n",
      "Iteration 0, inertia 15967905.575370818\n",
      "Iteration 1, inertia 10685281.638003504\n",
      "Iteration 2, inertia 10300030.796751104\n",
      "Iteration 3, inertia 10255980.593926061\n",
      "Iteration 4, inertia 10247433.381205129\n",
      "Iteration 5, inertia 10245179.54853859\n",
      "Iteration 6, inertia 10244546.940263102\n",
      "Iteration 7, inertia 10244373.826917108\n",
      "Converged at iteration 7: center shift 6.449323167085723e-05 within tolerance 9.999999999979744e-05.\n",
      "Initialization complete\n",
      "Iteration 0, inertia 18001828.814201124\n",
      "Iteration 1, inertia 10399865.757720059\n",
      "Iteration 2, inertia 10268038.251843495\n",
      "Iteration 3, inertia 10249650.142756436\n",
      "Iteration 4, inertia 10245776.790305464\n",
      "Iteration 5, inertia 10244716.800273787\n",
      "Iteration 6, inertia 10244418.415634507\n",
      "Iteration 7, inertia 10244335.94347609\n",
      "Converged at iteration 7: center shift 3.3604131944007395e-05 within tolerance 9.999999999979744e-05.\n",
      "Initialization complete\n",
      "Iteration 0, inertia 16518976.667411067\n",
      "Iteration 1, inertia 10618270.173602685\n",
      "Iteration 2, inertia 10275208.18617306\n",
      "Iteration 3, inertia 10248324.271321326\n",
      "Iteration 4, inertia 10245244.373459086\n",
      "Iteration 5, inertia 10244557.510422517\n",
      "Iteration 6, inertia 10244376.129935483\n",
      "Converged at iteration 6: center shift 6.713104341238024e-05 within tolerance 9.999999999979744e-05.\n",
      "Initialization complete\n",
      "Iteration 0, inertia 17168483.64294341\n",
      "Iteration 1, inertia 10295199.165539771\n",
      "Iteration 2, inertia 10255476.966180502\n",
      "Iteration 3, inertia 10247460.9456867\n",
      "Iteration 4, inertia 10245213.668470291\n",
      "Iteration 5, inertia 10244567.993372254\n",
      "Iteration 6, inertia 10244379.865689613\n",
      "Converged at iteration 6: center shift 6.985690068394154e-05 within tolerance 9.999999999979744e-05.\n",
      "Initialization complete\n",
      "Iteration 0, inertia 16355559.550748136\n",
      "Iteration 1, inertia 10278009.82730887\n",
      "Iteration 2, inertia 10246228.738760103\n",
      "Iteration 3, inertia 10244621.94927456\n",
      "Iteration 4, inertia 10244384.515614007\n",
      "Converged at iteration 4: center shift 7.563500812701198e-05 within tolerance 9.999999999979744e-05.\n",
      "[Pipeline] ............ (step 2 of 2) Processing kmeans, total=   9.0s\n"
     ]
    },
    {
     "data": {
      "text/plain": [
       "Pipeline(steps=[('scaler', StandardScaler()),\n",
       "                ('kmeans', KMeans(n_clusters=2, verbose=2))],\n",
       "         verbose=True)"
      ]
     },
     "execution_count": 65,
     "metadata": {},
     "output_type": "execute_result"
    }
   ],
   "source": [
    "features = ['danceability', 'energy', 'key', 'loudness', 'mode','speechiness', 'acousticness', 'instrumentalness', 'liveness', 'valence', 'tempo']\n",
    "metadata_cols = ['artists','id','name']\n",
    "\n",
    "song_cluster_pipeline = Pipeline([('scaler', StandardScaler()), \n",
    "                                  ('kmeans', KMeans(n_clusters=2, \n",
    "                                   verbose=2))],verbose=True)\n",
    "X = track_df[features]\n",
    "song_cluster_pipeline.fit(X)\n"
   ]
  },
  {
   "cell_type": "code",
   "execution_count": 67,
   "metadata": {},
   "outputs": [],
   "source": [
    "def recommend(track_dataframe,track_df,n_songs=15):\n",
    "    #tracks_groupby(track_dataframe)\n",
    "    \n",
    "    scaler = song_cluster_pipeline.steps[0][1]\n",
    "    scaled_data = scaler.transform(track_df[features])\n",
    "    scaled_dataframe=scaler.transform(track_dataframe[features])\n",
    "    \n",
    "    ed_dist = euclidean_distances(scaled_dataframe, scaled_data)\n",
    "    index = list(np.argsort(ed_dist)[:,:n_songs][0])\n",
    "    rec_output = track_df.iloc[index]\n",
    "    \n",
    "    return rec_output[metadata_cols]\n"
   ]
  },
  {
   "cell_type": "code",
   "execution_count": 68,
   "metadata": {},
   "outputs": [],
   "source": [
    "from sklearn.metrics.pairwise import euclidean_distances"
   ]
  },
  {
   "cell_type": "code",
   "execution_count": 74,
   "metadata": {},
   "outputs": [
    {
     "name": "stdout",
     "output_type": "stream",
     "text": [
      "                        artists                      id  \\\n",
      "1156462                 ['Wet']  4vfuIUiQCX24MXZYSKrKUy   \n",
      "538792   ['Future Of Forestry']  4pPbegnmSMWkdTVyi2gp6f   \n",
      "297716             ['I Am Jen']  4icPMwpfXuhWLNrGdCsbwf   \n",
      "624385        ['Blind Willies']  6Uy7goOOmK30zE9Xf6z6iw   \n",
      "226272    ['Within Temptation']  0ClEsmX3to1Rb4tcHkYmOL   \n",
      "614837      ['Deborah Bartley']  1jIeSR4zjtUwq8Gqt8Snts   \n",
      "316746          ['Ripp + Rice']  2JeRNFCdp3Wo4FxISDJu7X   \n",
      "689134       ['Megan Slankard']  5vzPNI5ll1WHoYcgSds0yY   \n",
      "276400          ['Kelley Hunt']  2SnAZ4CIVUQLKSVwdCdvfZ   \n",
      "90607        ['The Verve Pipe']  46Ov3VpnWZ3Sc48oMOCmFP   \n",
      "1043700  ['Larry John McNally']  1bYoNNudqqXgRu3yCiRjmc   \n",
      "1043819  ['Larry John McNally']  0mJf0xYYQs5DWQnvlhb9C1   \n",
      "1065967     ['Courtney Hadwin']  0F8zdANR3E3nylof5ad0Dz   \n",
      "916681   ['Mary Arden Collins']  3KDGR5UgGJHnNxS5YxpJHm   \n",
      "620673        ['Duo Libre Sur']  6JZLnGB3iyuTrKPwOS1RUf   \n",
      "\n",
      "                                   name  \n",
      "1156462              Love is Not Enough  \n",
      "538792       Someone (Acoustic Version)  \n",
      "297716                  Blowing My Mind  \n",
      "624385             Feel Like Going Home  \n",
      "226272                     Our Farewell  \n",
      "614837                 Wetter than Rain  \n",
      "316746                          Hold On  \n",
      "689134                Haven't Been Down  \n",
      "276400                             Love  \n",
      "90607                      All Grown Up  \n",
      "1043700        Flower Girl (Remastered)  \n",
      "1043819                     Flower Girl  \n",
      "1065967  Sign of the Times - Live Cover  \n",
      "916681                             Rain  \n",
      "620673         A Espaldas De Los Patios  \n"
     ]
    }
   ],
   "source": [
    "recommend_playlist=(recommend(track_dataframe,track_df))\n",
    "print(recommend_playlist)"
   ]
  },
  {
   "cell_type": "markdown",
   "metadata": {},
   "source": [
    "# Add Playlist with Recommended Songs with Spotify API"
   ]
  },
  {
   "cell_type": "code",
   "execution_count": 75,
   "metadata": {},
   "outputs": [
    {
     "name": "stdout",
     "output_type": "stream",
     "text": [
      "{'collaborative': False, 'description': '', 'external_urls': {'spotify': 'https://open.spotify.com/playlist/7iJ6V4vKv81mdgAhQ95Wq6'}, 'followers': {'href': None, 'total': 0}, 'href': 'https://api.spotify.com/v1/playlists/7iJ6V4vKv81mdgAhQ95Wq6', 'id': '7iJ6V4vKv81mdgAhQ95Wq6', 'images': [], 'name': 'New Playlist 2023-04-01', 'owner': {'display_name': 'Michelle Cheng', 'external_urls': {'spotify': 'https://open.spotify.com/user/2253u5a76karakkhbubhrd2yq'}, 'href': 'https://api.spotify.com/v1/users/2253u5a76karakkhbubhrd2yq', 'id': '2253u5a76karakkhbubhrd2yq', 'type': 'user', 'uri': 'spotify:user:2253u5a76karakkhbubhrd2yq'}, 'primary_color': None, 'public': False, 'snapshot_id': 'MSw3NjkwMjI5OGFmNDM3YTU0OGFlYThmMTVhYzQzZjZjNzc1YjQ0OWM2', 'tracks': {'href': 'https://api.spotify.com/v1/playlists/7iJ6V4vKv81mdgAhQ95Wq6/tracks', 'items': [], 'limit': 100, 'next': None, 'offset': 0, 'previous': None, 'total': 0}, 'type': 'playlist', 'uri': 'spotify:playlist:7iJ6V4vKv81mdgAhQ95Wq6'}\n"
     ]
    }
   ],
   "source": [
    "from datetime import date \n",
    "today=str(date.today())\n",
    "user_id = \"2253u5a76karakkhbubhrd2yq\"\n",
    "my_playlist = sp.user_playlist_create(user=f\"{user_id}\", name=\"New Playlist \"+today, public=False,)\n",
    "print(my_playlist)"
   ]
  },
  {
   "cell_type": "code",
   "execution_count": 76,
   "metadata": {},
   "outputs": [
    {
     "name": "stdout",
     "output_type": "stream",
     "text": [
      "spotify:track:4vfuIUiQCX24MXZYSKrKUy\n",
      "spotify:track:4pPbegnmSMWkdTVyi2gp6f\n",
      "spotify:track:4icPMwpfXuhWLNrGdCsbwf\n",
      "spotify:track:6Uy7goOOmK30zE9Xf6z6iw\n",
      "spotify:track:0ClEsmX3to1Rb4tcHkYmOL\n",
      "spotify:track:1jIeSR4zjtUwq8Gqt8Snts\n",
      "spotify:track:2JeRNFCdp3Wo4FxISDJu7X\n",
      "spotify:track:5vzPNI5ll1WHoYcgSds0yY\n",
      "spotify:track:2SnAZ4CIVUQLKSVwdCdvfZ\n",
      "spotify:track:46Ov3VpnWZ3Sc48oMOCmFP\n",
      "spotify:track:1bYoNNudqqXgRu3yCiRjmc\n",
      "spotify:track:0mJf0xYYQs5DWQnvlhb9C1\n",
      "spotify:track:0F8zdANR3E3nylof5ad0Dz\n",
      "spotify:track:3KDGR5UgGJHnNxS5YxpJHm\n",
      "spotify:track:6JZLnGB3iyuTrKPwOS1RUf\n"
     ]
    }
   ],
   "source": [
    "playlist_id_new=my_playlist[\"id\"]\n",
    "tracks=(recommend_playlist['id'])\n",
    "for track in tracks:\n",
    "    uri='spotify:track:'+track\n",
    "    print(uri)\n",
    "    sp.playlist_add_items(playlist_id=playlist_id_new, items=[uri],position=None)"
   ]
  },
  {
   "cell_type": "code",
   "execution_count": null,
   "metadata": {},
   "outputs": [],
   "source": []
  },
  {
   "cell_type": "code",
   "execution_count": null,
   "metadata": {},
   "outputs": [],
   "source": []
  }
 ],
 "metadata": {
  "kernelspec": {
   "display_name": "Python 3",
   "language": "python",
   "name": "python3"
  }
 },
 "nbformat": 4,
 "nbformat_minor": 5
}
